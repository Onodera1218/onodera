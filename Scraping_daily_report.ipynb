{
 "cells": [
  {
   "cell_type": "code",
   "execution_count": 34,
   "metadata": {
    "collapsed": true
   },
   "outputs": [
    {
     "data": {
      "text/plain": [
       "<!DOCTYPE html>\n",
       "\n",
       "<html lang=\"ja\">\n",
       "<head>\n",
       "<!-- Google Tag Manager -->\n",
       "<script>(function(w,d,s,l,i){w[l]=w[l]||[];w[l].push({'gtm.start':\n",
       "    new Date().getTime(),event:'gtm.js'});var f=d.getElementsByTagName(s)[0],\n",
       "    j=d.createElement(s),dl=l!='dataLayer'?'&l='+l:'';j.async=true;j.src=\n",
       "    'https://www.googletagmanager.com/gtm.js?id='+i+dl;f.parentNode.insertBefore(j,f);\n",
       "    })(window,document,'script','dataLayer','GTM-KNN4QP7');</script>\n",
       "<!-- End Google Tag Manager -->\n",
       "<meta charset=\"utf-8\"/>\n",
       "<meta content=\"IE=edge\" http-equiv=\"X-UA-Compatible\"/>\n",
       "<meta content=\"https://ssl.jobcan.jp/employee/attendance\" http-equiv=\"Jobcan-Reff-URL\">\n",
       "<title>Login to Staff Mypage｜JOBCAN</title>\n",
       "<link href=\"/favicon.ico\" rel=\"icon\"/>\n",
       "<link href=\"/st/css/signup/bootstrap.css?lu=20221207140419\" rel=\"stylesheet\" type=\"text/css\">\n",
       "<link href=\"/st/css/client/bootstrap.jbc2.css?lu=20221207140419\" rel=\"stylesheet\" type=\"text/css\"/>\n",
       "<link href=\"/st/css/client/style.css?lu=20221207140419\" rel=\"stylesheet\" type=\"text/css\"/>\n",
       "<link href=\"/st/css/login/user-login.css?lu=20221207140419\" rel=\"stylesheet\" type=\"text/css\"/> <script src=\"/st/js/jquery.js\"></script>\n",
       "<script src=\"/st/js/client/placeholder.js\"></script>\n",
       "<script src=\"/st/js/login/validate-form.js\"></script>\n",
       "<!-- [if lt IE 9] -->\n",
       "<script src=\"/st/js/login/html5shiv.min.js\"></script>\n",
       "<script src=\"/st/js/login/html5shiv-printshiv.min.js\"></script>\n",
       "<script src=\"/st/js/login/respond.min.js\"></script>\n",
       "<!-- [endif] --> <script src=\"/st/js/Jeeel/Jeeel-Set-Min.js?lu=20221207140419\" type=\"text/javascript\"></script>\n",
       "<script src=\"/st/js/bootstrap.min.js?lu=20221207140419\" type=\"text/javascript\"></script>\n",
       "<script src=\"/st/js/navi.js\" type=\"text/javascript\"></script>\n",
       "<script src=\"/st/js/login/pc-employee/index.js\" type=\"text/javascript\"></script>\n",
       "</link></meta></head>\n",
       "<body onload=\"getCookie()\">\n",
       "<!-- Google Tag Manager (noscript) -->\n",
       "<noscript><iframe height=\"0\" src=\"https://www.googletagmanager.com/ns.html?id=GTM-KNN4QP7\" style=\"display:none;visibility:hidden\" width=\"0\"></iframe></noscript>\n",
       "<!-- End Google Tag Manager (noscript) -->\n",
       "<div class=\"login-content\">\n",
       "<div class=\"login-container\">\n",
       "<div class=\"login-block\">\n",
       "<div class=\"login-logo\">\n",
       "<h1>\n",
       "<a href=\"https://jobcan.ne.jp\" target=\"_blank\">\n",
       "<img alt=\"JOBCAN\" src=\"/st/image/header/jobcan_logo_foreign.png\" style=\"width: calc(200px * 0.727);\"/>\n",
       "</a>\n",
       "</h1>\n",
       "</div>\n",
       "<h2 class=\"text-center login-title\">Login to Staff Mypage</h2>\n",
       "<div class=\"row\">\n",
       "<div class=\"text-center\">\n",
       "<p class=\"error\">\n",
       "                                                       Error : Your Login Information is incorrect.\n",
       "                                                    </p>\n",
       "</div>\n",
       "</div>\n",
       "<form action=\"/login/pc-employee-global\" method=\"post\" name=\"form\" role=\"form\">\n",
       "<div class=\"form-group\">\n",
       "<label for=\"client_id\">Company ID</label>\n",
       "<input class=\"form-control\" id=\"client_id\" name=\"client_id\" type=\"text\" value=\"\"/>\n",
       "</div>\n",
       "<div class=\"form-group\">\n",
       "<label for=\"email\">E-mail or Staff Code</label>\n",
       "<input class=\"form-control\" id=\"email\" name=\"email\" type=\"text\" value=\"\"/>\n",
       "</div>\n",
       "<div class=\"form-group\">\n",
       "<label for=\"password\">Password</label>\n",
       "<input class=\"form-control\" id=\"password\" name=\"password\" type=\"password\"/>\n",
       "</div>\n",
       "<div class=\"form-group\" style=\"display: table;\">\n",
       "<input class=\"save\" id=\"save\" name=\"save_login_info\" type=\"checkbox\" value=\"0\"/>\n",
       "<label class=\"save\" for=\"save\">Remember me on this computer</label>\n",
       "</div>\n",
       "<div class=\"form-group\" style=\"margin-bottom: 5px;\">\n",
       "<button class=\"btn btn-info btn-block\" onclick=\"setCookie()\" type=\"submit\">Login</button>\n",
       "</div>\n",
       "<input name=\"url\" type=\"hidden\" value=\"https://ssl.jobcan.jp/employee/attendance\"/>\n",
       "<input name=\"login_type\" type=\"hidden\" value=\"1\"/>\n",
       "<input name=\"lang_code\" type=\"hidden\" value=\"en\"/>\n",
       "</form>\n",
       "<br/>\n",
       "<style>\n",
       "\n",
       "li.langage-choices {\n",
       "    display: inline-block;\n",
       "    //width: 5em;\n",
       "    margin-left: 1em;\n",
       "}\n",
       "\n",
       "</style>\n",
       "<div class=\"footer-item-box\">\n",
       "<img alt=\"language\" src=\"/st/image/footer/icon-global.png\" style=\"width: 18px;\"/> \n",
       "</div>\n",
       "<div class=\"footer-item-box\">\n",
       "<ul>\n",
       "<li class=\"langage-choices\"><a href=\"/login/pc-employee-global?lang_code=ja\">日本語</a></li>\n",
       "<li class=\"langage-choices\" style=\"font-weight: bold\">English</li>\n",
       "<li class=\"langage-choices\"><a href=\"/login/pc-employee-global?lang_code=ko\">한국어</a></li>\n",
       "<li class=\"langage-choices\"><a href=\"/login/pc-employee-global?lang_code=th\">ไทย</a></li>\n",
       "<li class=\"langage-choices\"><a href=\"/login/pc-employee-global?lang_code=vi\">Tiếng Việt</a></li>\n",
       "<li class=\"langage-choices\"><a href=\"/login/pc-employee-global?lang_code=es\">español</a></li>\n",
       "<li class=\"langage-choices\"><a href=\"/login/pc-employee-global?lang_code=cn\">简体中文</a></li>\n",
       "<li class=\"langage-choices\"><a href=\"/login/pc-employee-global?lang_code=tw\">繁體中文</a></li>\n",
       "</ul>\n",
       "</div> </div>\n",
       "<div class=\"row\">\n",
       "<div class=\"col-xs-4\">\n",
       "</div>\n",
       "<div class=\"col-xs-8\">\n",
       "<div class=\"pull-right text-right\">\n",
       "<a href=\"/login/client/\">Login as Manager</a>\n",
       "</div>\n",
       "</div>\n",
       "</div>\n",
       "</div>\n",
       "</div>\n",
       "</body>\n",
       "</html>"
      ]
     },
     "execution_count": 34,
     "metadata": {},
     "output_type": "execute_result"
    }
   ],
   "source": [
    "from bs4 import BeautifulSoup\n",
    "import requests\n",
    "\n",
    "url = 'https://ssl.jobcan.jp/employee/attendance' #サイトのURLを取得\n",
    "user_agent = 'Mozilla/5.0 (Windows NT 10.0; Win64; x64) AppleWebKit/537.36 (KHTML, like Gecko) Chrome/107.0.0.0 Safari/537.36'#ユーザーエージェントを設定\n",
    "header = {\"User-Agent\": user_agent}\n",
    "\n",
    "res = requests.get(url, headers=header)\n",
    "soup = BeautifulSoup(res.text,'html.parser') #BeautifulSoupでresの中身を整える\n",
    "\n",
    "#soup.find('a')\n",
    "\n",
    "soup.find_all('a',{'class':'jbc-text-reset'}) #テキストのみ取り出す\n",
    "soup\n"
   ]
  },
  {
   "cell_type": "code",
   "execution_count": 13,
   "metadata": {},
   "outputs": [
    {
     "data": {
      "text/plain": [
       "[]"
      ]
     },
     "execution_count": 13,
     "metadata": {},
     "output_type": "execute_result"
    }
   ],
   "source": [
    "soup.find_all('table class')"
   ]
  },
  {
   "cell_type": "code",
   "execution_count": 29,
   "metadata": {},
   "outputs": [
    {
     "data": {
      "text/plain": [
       "[]"
      ]
     },
     "execution_count": 29,
     "metadata": {},
     "output_type": "execute_result"
    }
   ],
   "source": [
    "soup.find_all('a',{'class':'jbc-text-reset'}) #テキストのみ取り出す\n"
   ]
  },
  {
   "cell_type": "code",
   "execution_count": 91,
   "metadata": {},
   "outputs": [],
   "source": [
    "import gspread\n",
    "from google.oauth2.service_account import Credentials\n",
    "# お決まりの文句\n",
    "# 2つのAPIを記述しないとリフレッシュトークンを3600秒毎に発行し続けなければならない\n",
    "\n",
    "scope = ['https://www.googleapis.com/auth/spreadsheets','https://www.googleapis.com/auth/drive']\n",
    "#ダウンロードしたjsonファイル名をクレデンシャル変数に設定。\n",
    "credentials = Credentials.from_service_account_file(\"step3-scraping-0939de7585a8.json\", scopes=scope)\n",
    "#OAuth2の資格情報を使用してGoogle APIにログイン。\n",
    "gc = gspread.authorize(credentials)\n",
    "#スプレッドシートIDを変数に格納する。\n",
    "SPREADSHEET_KEY = '16a7uIbpFfWT0mluRNR17jdHStS-KH6riqufvZAufJSo'\n",
    "# スプレッドシート（ブック）を開く\n",
    "workbook = gc.open_by_key(SPREADSHEET_KEY)"
   ]
  },
  {
   "cell_type": "code",
   "execution_count": null,
   "metadata": {},
   "outputs": [],
   "source": [
    "    # スプレッドシート（ブック）を開く\n",
    "    workbook = gc.open_by_key(SPREADSHEET_KEY)\n",
    "    # シートの一覧を取得する。（リスト形式）\n",
    "    worksheets = workbook.worksheets()\n",
    "    print(worksheets)\n",
    "    # シートを開く\n",
    "    worksheet = workbook.worksheet('12/7-13_スクレイピング')\n",
    "    # セルA1に”test value”という文字列を代入する。\n",
    "    worksheet.update_cell(1, 1, data)"
   ]
  },
  {
   "cell_type": "code",
   "execution_count": null,
   "metadata": {},
   "outputs": [],
   "source": []
  }
 ],
 "metadata": {
  "kernelspec": {
   "display_name": "Python 3.6.4 64-bit",
   "language": "python",
   "name": "python3"
  },
  "language_info": {
   "codemirror_mode": {
    "name": "ipython",
    "version": 3
   },
   "file_extension": ".py",
   "mimetype": "text/x-python",
   "name": "python",
   "nbconvert_exporter": "python",
   "pygments_lexer": "ipython3",
   "version": "3.6.4"
  },
  "vscode": {
   "interpreter": {
    "hash": "0a6a937dacebfd77873fba4ccb2914d74056823c1743d2ef4f0f79c9d9db4a4e"
   }
  }
 },
 "nbformat": 4,
 "nbformat_minor": 2
}
