{
 "cells": [
  {
   "cell_type": "code",
   "execution_count": 143,
   "metadata": {
    "collapsed": true
   },
   "outputs": [
    {
     "data": {
      "text/plain": [
       "[<h2 class=\"estate-parent-rightTopTD_P2 alignLEFT\">プレシス知事公館前ＥＡＳＴ \n",
       " </h2>,\n",
       " <h2 class=\"estate-parent-rightTopTD_P2 alignLEFT\">ブランシャール静修学園前 \n",
       " </h2>,\n",
       " <h2 class=\"estate-parent-rightTopTD_P2 alignLEFT\">ブランシャール西１１丁目 \n",
       " </h2>,\n",
       " <h2 class=\"estate-parent-rightTopTD_P2 alignLEFT\">ブランシャール東屯田通 \n",
       " </h2>,\n",
       " <h2 class=\"estate-parent-rightTopTD_P2 alignLEFT\">ＭーＳＴＹＬＥ．ＳＴＥＬＬＡ \n",
       " </h2>,\n",
       " <h2 class=\"estate-parent-rightTopTD_P2 alignLEFT\">ＭーＳＥＬＥＣＴＩＯＮ．ＳＴＥＬＬＡⅡ \n",
       " </h2>,\n",
       " <h2 class=\"estate-parent-rightTopTD_P2 alignLEFT\">札幌まち家勇﨑 \n",
       " </h2>,\n",
       " <h2 class=\"estate-parent-rightTopTD_P2 alignLEFT\">ＪーＣＩＴＹ．ＳＴＥＬＬＡ \n",
       " </h2>,\n",
       " <h2 class=\"estate-parent-rightTopTD_P2 alignLEFT\">宮の森ウルビス \n",
       " </h2>,\n",
       " <h2 class=\"estate-parent-rightTopTD_P2 alignLEFT\">パークホームズ円山公園 \n",
       " </h2>,\n",
       " <h2 class=\"GrayBarR\">札幌市中央区の物件情報</h2>,\n",
       " <h2 style=\"font-size: 13px;margin-bottom: 10px;\">中古住宅の購入を検討する</h2>,\n",
       " <h2 style=\"font-size: 13px;margin-bottom: 10px;\">土地の情報も見てみませんか</h2>,\n",
       " <h2 style=\"font-size: 13px;margin-bottom: 10px;\">家づくりを検討している方へ</h2>,\n",
       " <h2 style=\"font-size: 13px;margin-bottom: 10px;\">持ち家を売って賃貸に住みたい方へ</h2>,\n",
       " <h2 class=\"GrayBarR mB10\">札幌市中央区に関するコラム</h2>,\n",
       " <h2><a href=\"/article/sapporo/\">都心でありながら自然と共存する街「札幌駅」の賃貸情報からおすすめスポットまで</a></h2>,\n",
       " <h2><a href=\"/article/oodoori-hokkaido/\">札幌の中心部！買い物やイベントが楽しめる街「大通駅」の賃貸情報からおすすめスポットまで</a></h2>,\n",
       " <h2 id=\"Information-NearStation-Notice\">\n",
       " <i aria-hidden=\"true\" class=\"fa fa-check\"></i> 現在ご覧の行政区は「\n",
       " \t\t\t\t\t\t\t\t<a href=\"/pref/01/area-apamanshop_12280_list.html\">\n",
       " <span>札幌市中央区</span>\n",
       " </a>」です。\n",
       " \t\t\t\t\t\t</h2>,\n",
       " <h2 class=\"Information-NearStation-Title\">札幌市中央区にある<a href=\"/area/selectUn_01.html\">大学周辺</a>から探す</h2>,\n",
       " <h2 class=\"Information-NearStation-Title\">札幌市中央区にある<a href=\"/area/selectSc_01.html\">小中学校周辺</a>から探す</h2>,\n",
       " <h2 class=\"Information-NearStation-Title\">札幌市中央区にある<a href=\"/area/selectHo_01.html\">医療機関周辺</a>から探す</h2>,\n",
       " <h2 class=\"Information-NearStation-Title\">札幌市中央区にある<a href=\"/area/selectSh_01.html\">ショッピングセンター周辺</a>から探す</h2>,\n",
       " <h2 class=\"Information-NearStation-Title\">札幌市中央区にある<a href=\"/area/selectNu_01.html\">保育園周辺</a>から探す</h2>,\n",
       " <h2 class=\"Information-NearStation-Title\">札幌市中央区にある<a href=\"/area/selectLe_01.html\">レジャー施設周辺</a>から探す</h2>,\n",
       " <h2 class=\"Information-NearStation-Title\">札幌市中央区にある<a href=\"/area/selectHSc_01.html\">高等学校周辺</a>から探す</h2>,\n",
       " <h2 class=\"Information-NearStation-Title\">札幌市中央区にある<a href=\"/area/selectFactory_01.html\">工場周辺</a>から探す</h2>,\n",
       " <h2 class=\"Information-NearStation-Title\">札幌市中央区にある<a href=\"/area/selectHotel_01.html\">ホテル周辺</a>から探す</h2>,\n",
       " <h2 class=\"Information-NearStation-Title\">札幌市中央区にある<a href=\"/area/selectBusTerminal_01.html\">バスターミナル周辺</a>から探す</h2>,\n",
       " <h2 class=\"Information-NearStation-Title\">札幌市中央区にある<a href=\"/area/selectLew_01.html\">遊べるレジャー施設周辺</a>から探す</h2>,\n",
       " <h2 class=\"Information-NearStation-Title\">札幌市中央区にある<a href=\"/area/selectWeddingHall_01.html\">結婚式場周辺</a>から探す</h2>,\n",
       " <h2 class=\"Information-NearStation-Title\">札幌市中央区にある<a href=\"/area/selectBank_01.html\">銀行周辺</a>から探す</h2>,\n",
       " <h2 class=\"Information-NearStation-Title\">札幌市中央区にある<a href=\"/area/selectSDF_01.html\">自衛隊施設周辺</a>から探す</h2>,\n",
       " <h2 class=\"Information-NearStation-Title\">札幌市中央区にある<a href=\"/area/selectTemple_01.html\">寺院周辺</a>から探す</h2>,\n",
       " <h2 class=\"Information-NearStation-Title\">札幌市中央区にある<a href=\"/area/selectHomecenter_01.html\">ホームセンター周辺</a>から探す</h2>,\n",
       " <h2 class=\"Information-NearStation-Title\">札幌市中央区にある<a href=\"/area/selectJuku_01.html\">学習塾周辺</a>から探す</h2>,\n",
       " <h2>北海道札幌市中央区について</h2>,\n",
       " <h2>このページについて</h2>]"
      ]
     },
     "execution_count": 143,
     "metadata": {},
     "output_type": "execute_result"
    }
   ],
   "source": [
    "from bs4 import BeautifulSoup\n",
    "import requests\n",
    "import pandas as pd\n",
    "\n",
    "\n",
    "url = 'https://www.chintaistyle.jp/pref/01/area-apamanshop_12280_list.html' #サイトのURLを取得\n",
    "user_agent = 'Mozilla/5.0 (Windows NT 10.0; Win64; x64) AppleWebKit/537.36 (KHTML, like Gecko) Chrome/107.0.0.0 Safari/537.36'#ユーザーエージェントを設定\n",
    "header = {\"User-Agent\": user_agent}\n",
    "\n",
    "res = requests.get(url, headers=header)\n",
    "soup = BeautifulSoup(res.text,'html.parser') #BeautifulSoupでresの中身を整える\n",
    "\n",
    "soup.find_all('h2')\n",
    "\n",
    "\n"
   ]
  },
  {
   "cell_type": "code",
   "execution_count": 144,
   "metadata": {},
   "outputs": [
    {
     "data": {
      "text/plain": [
       "[<h2 class=\"estate-parent-rightTopTD_P2 alignLEFT\">プレシス知事公館前ＥＡＳＴ \n",
       " </h2>,\n",
       " <h2 class=\"estate-parent-rightTopTD_P2 alignLEFT\">ブランシャール静修学園前 \n",
       " </h2>,\n",
       " <h2 class=\"estate-parent-rightTopTD_P2 alignLEFT\">ブランシャール西１１丁目 \n",
       " </h2>,\n",
       " <h2 class=\"estate-parent-rightTopTD_P2 alignLEFT\">ブランシャール東屯田通 \n",
       " </h2>,\n",
       " <h2 class=\"estate-parent-rightTopTD_P2 alignLEFT\">ＭーＳＴＹＬＥ．ＳＴＥＬＬＡ \n",
       " </h2>,\n",
       " <h2 class=\"estate-parent-rightTopTD_P2 alignLEFT\">ＭーＳＥＬＥＣＴＩＯＮ．ＳＴＥＬＬＡⅡ \n",
       " </h2>,\n",
       " <h2 class=\"estate-parent-rightTopTD_P2 alignLEFT\">札幌まち家勇﨑 \n",
       " </h2>,\n",
       " <h2 class=\"estate-parent-rightTopTD_P2 alignLEFT\">ＪーＣＩＴＹ．ＳＴＥＬＬＡ \n",
       " </h2>,\n",
       " <h2 class=\"estate-parent-rightTopTD_P2 alignLEFT\">宮の森ウルビス \n",
       " </h2>,\n",
       " <h2 class=\"estate-parent-rightTopTD_P2 alignLEFT\">パークホームズ円山公園 \n",
       " </h2>]"
      ]
     },
     "execution_count": 144,
     "metadata": {},
     "output_type": "execute_result"
    }
   ],
   "source": [
    "datas = soup.find_all('h2',{'class':'estate-parent-rightTopTD_P2 alignLEFT'}) #テキストのみ取り出す\n",
    "datas"
   ]
  },
  {
   "cell_type": "code",
   "execution_count": 145,
   "metadata": {},
   "outputs": [],
   "source": [
    "import gspread\n",
    "from google.oauth2.service_account import Credentials\n",
    "# お決まりの文句\n",
    "# 2つのAPIを記述しないとリフレッシュトークンを3600秒毎に発行し続けなければならない\n",
    "\n",
    "scope = ['https://www.googleapis.com/auth/spreadsheets','https://www.googleapis.com/auth/drive']\n",
    "#ダウンロードしたjsonファイル名をクレデンシャル変数に設定。\n",
    "credentials = Credentials.from_service_account_file(\"step3-scraping-0939de7585a8.json\", scopes=scope)\n",
    "#OAuth2の資格情報を使用してGoogle APIにログイン。\n",
    "gc = gspread.authorize(credentials)\n",
    "#スプレッドシートIDを変数に格納する。\n",
    "SPREADSHEET_KEY = '16a7uIbpFfWT0mluRNR17jdHStS-KH6riqufvZAufJSo'\n",
    "# スプレッドシート（ブック）を開く\n",
    "workbook = gc.open_by_key(SPREADSHEET_KEY)"
   ]
  },
  {
   "cell_type": "code",
   "execution_count": 146,
   "metadata": {},
   "outputs": [
    {
     "name": "stdout",
     "output_type": "stream",
     "text": [
      "[<Worksheet '皆さんのスキル' id:2076453239>, <Worksheet '12/5' id:784158682>, <Worksheet '12/7-13_スクレイピング' id:1081361636>, <Worksheet 'チーム名' id:0>, <Worksheet 'チームアライメントマップ' id:186520665>, <Worksheet 'チームコントラクト' id:401530367>, <Worksheet '参考資料' id:872376586>, <Worksheet 'new worksheet' id:1125157926>]\n"
     ]
    }
   ],
   "source": [
    "\n",
    "    # シートの一覧を取得する。（リスト形式）\n",
    "    worksheets = workbook.worksheets()\n",
    "    print(worksheets)\n",
    "    # シートを開く\n",
    "    worksheet = workbook.worksheet('12/7-13_スクレイピング')\n",
    "    # セルA1に”test value”という文字列を代入する。\n",
    "   # worksheet.update_cell('A1:A10', data)\n",
    "   # worksheet.update_acell(List)\n",
    "pre_data =worksheet.get_all_values()\n",
    "col_name = pre_data[0][:]\n",
    "pre_df = pd.DataFrame(pre_data[1:], columns=col_name)"
   ]
  },
  {
   "cell_type": "code",
   "execution_count": 153,
   "metadata": {},
   "outputs": [
    {
     "ename": "KeyError",
     "evalue": "Index(['tweet_id'], dtype='object')",
     "output_type": "error",
     "traceback": [
      "\u001b[1;31m---------------------------------------------------------------------------\u001b[0m",
      "\u001b[1;31mKeyError\u001b[0m                                  Traceback (most recent call last)",
      "\u001b[1;32m<ipython-input-153-5277902cc572>\u001b[0m in \u001b[0;36m<module>\u001b[1;34m\u001b[0m\n\u001b[0;32m      1\u001b[0m \u001b[0mdf\u001b[0m \u001b[1;33m=\u001b[0m \u001b[0mpd\u001b[0m\u001b[1;33m.\u001b[0m\u001b[0mDataFrame\u001b[0m\u001b[1;33m(\u001b[0m\u001b[0mList\u001b[0m\u001b[1;33m)\u001b[0m\u001b[1;33m\u001b[0m\u001b[0m\n\u001b[0;32m      2\u001b[0m \u001b[0mnew_df\u001b[0m \u001b[1;33m=\u001b[0m \u001b[0mpd\u001b[0m\u001b[1;33m.\u001b[0m\u001b[0mconcat\u001b[0m\u001b[1;33m(\u001b[0m\u001b[1;33m[\u001b[0m\u001b[0mpre_df\u001b[0m\u001b[1;33m,\u001b[0m\u001b[0mdf\u001b[0m\u001b[1;33m]\u001b[0m\u001b[1;33m,\u001b[0m \u001b[0mjoin\u001b[0m\u001b[1;33m=\u001b[0m\u001b[1;34m'outer'\u001b[0m\u001b[1;33m)\u001b[0m\u001b[1;33m\u001b[0m\u001b[0m\n\u001b[1;32m----> 3\u001b[1;33m \u001b[0mnew_df\u001b[0m \u001b[1;33m=\u001b[0m \u001b[0mnew_df\u001b[0m\u001b[1;33m.\u001b[0m\u001b[0mdrop_duplicates\u001b[0m\u001b[1;33m(\u001b[0m\u001b[0msubset\u001b[0m\u001b[1;33m=\u001b[0m\u001b[1;34m'tweet_id'\u001b[0m\u001b[1;33m)\u001b[0m\u001b[1;33m\u001b[0m\u001b[0m\n\u001b[0m\u001b[0;32m      4\u001b[0m \u001b[1;33m\u001b[0m\u001b[0m\n\u001b[0;32m      5\u001b[0m \u001b[0mset_with_dataframe\u001b[0m\u001b[1;33m(\u001b[0m\u001b[0mworksheet\u001b[0m\u001b[1;33m,\u001b[0m \u001b[0mnew_df\u001b[0m\u001b[1;33m)\u001b[0m\u001b[1;33m\u001b[0m\u001b[0m\n",
      "\u001b[1;32m~\\AppData\\Roaming\\Python\\Python36\\site-packages\\pandas\\core\\frame.py\u001b[0m in \u001b[0;36mdrop_duplicates\u001b[1;34m(self, subset, keep, inplace, ignore_index)\u001b[0m\n\u001b[0;32m   5110\u001b[0m \u001b[1;33m\u001b[0m\u001b[0m\n\u001b[0;32m   5111\u001b[0m         \u001b[0minplace\u001b[0m \u001b[1;33m=\u001b[0m \u001b[0mvalidate_bool_kwarg\u001b[0m\u001b[1;33m(\u001b[0m\u001b[0minplace\u001b[0m\u001b[1;33m,\u001b[0m \u001b[1;34m\"inplace\"\u001b[0m\u001b[1;33m)\u001b[0m\u001b[1;33m\u001b[0m\u001b[0m\n\u001b[1;32m-> 5112\u001b[1;33m         \u001b[0mduplicated\u001b[0m \u001b[1;33m=\u001b[0m \u001b[0mself\u001b[0m\u001b[1;33m.\u001b[0m\u001b[0mduplicated\u001b[0m\u001b[1;33m(\u001b[0m\u001b[0msubset\u001b[0m\u001b[1;33m,\u001b[0m \u001b[0mkeep\u001b[0m\u001b[1;33m=\u001b[0m\u001b[0mkeep\u001b[0m\u001b[1;33m)\u001b[0m\u001b[1;33m\u001b[0m\u001b[0m\n\u001b[0m\u001b[0;32m   5113\u001b[0m \u001b[1;33m\u001b[0m\u001b[0m\n\u001b[0;32m   5114\u001b[0m         \u001b[0mresult\u001b[0m \u001b[1;33m=\u001b[0m \u001b[0mself\u001b[0m\u001b[1;33m[\u001b[0m\u001b[1;33m-\u001b[0m\u001b[0mduplicated\u001b[0m\u001b[1;33m]\u001b[0m\u001b[1;33m\u001b[0m\u001b[0m\n",
      "\u001b[1;32m~\\AppData\\Roaming\\Python\\Python36\\site-packages\\pandas\\core\\frame.py\u001b[0m in \u001b[0;36mduplicated\u001b[1;34m(self, subset, keep)\u001b[0m\n\u001b[0;32m   5246\u001b[0m         \u001b[0mdiff\u001b[0m \u001b[1;33m=\u001b[0m \u001b[0mIndex\u001b[0m\u001b[1;33m(\u001b[0m\u001b[0msubset\u001b[0m\u001b[1;33m)\u001b[0m\u001b[1;33m.\u001b[0m\u001b[0mdifference\u001b[0m\u001b[1;33m(\u001b[0m\u001b[0mself\u001b[0m\u001b[1;33m.\u001b[0m\u001b[0mcolumns\u001b[0m\u001b[1;33m)\u001b[0m\u001b[1;33m\u001b[0m\u001b[0m\n\u001b[0;32m   5247\u001b[0m         \u001b[1;32mif\u001b[0m \u001b[1;32mnot\u001b[0m \u001b[0mdiff\u001b[0m\u001b[1;33m.\u001b[0m\u001b[0mempty\u001b[0m\u001b[1;33m:\u001b[0m\u001b[1;33m\u001b[0m\u001b[0m\n\u001b[1;32m-> 5248\u001b[1;33m             \u001b[1;32mraise\u001b[0m \u001b[0mKeyError\u001b[0m\u001b[1;33m(\u001b[0m\u001b[0mdiff\u001b[0m\u001b[1;33m)\u001b[0m\u001b[1;33m\u001b[0m\u001b[0m\n\u001b[0m\u001b[0;32m   5249\u001b[0m \u001b[1;33m\u001b[0m\u001b[0m\n\u001b[0;32m   5250\u001b[0m         \u001b[0mvals\u001b[0m \u001b[1;33m=\u001b[0m \u001b[1;33m(\u001b[0m\u001b[0mcol\u001b[0m\u001b[1;33m.\u001b[0m\u001b[0mvalues\u001b[0m \u001b[1;32mfor\u001b[0m \u001b[0mname\u001b[0m\u001b[1;33m,\u001b[0m \u001b[0mcol\u001b[0m \u001b[1;32min\u001b[0m \u001b[0mself\u001b[0m\u001b[1;33m.\u001b[0m\u001b[0mitems\u001b[0m\u001b[1;33m(\u001b[0m\u001b[1;33m)\u001b[0m \u001b[1;32mif\u001b[0m \u001b[0mname\u001b[0m \u001b[1;32min\u001b[0m \u001b[0msubset\u001b[0m\u001b[1;33m)\u001b[0m\u001b[1;33m\u001b[0m\u001b[0m\n",
      "\u001b[1;31mKeyError\u001b[0m: Index(['tweet_id'], dtype='object')"
     ]
    }
   ],
   "source": [
    "df = pd.DataFrame(List)\n",
    "new_df = pd.concat([pre_df,df], join='outer') \n",
    "new_df = new_df.drop_duplicates(subset='tweet_id')\n",
    "\n",
    "set_with_dataframe(worksheet, new_df)\n"
   ]
  },
  {
   "cell_type": "code",
   "execution_count": null,
   "metadata": {},
   "outputs": [],
   "source": []
  }
 ],
 "metadata": {
  "kernelspec": {
   "display_name": "Python 3.6.4 64-bit",
   "language": "python",
   "name": "python3"
  },
  "language_info": {
   "codemirror_mode": {
    "name": "ipython",
    "version": 3
   },
   "file_extension": ".py",
   "mimetype": "text/x-python",
   "name": "python",
   "nbconvert_exporter": "python",
   "pygments_lexer": "ipython3",
   "version": "3.6.4"
  },
  "vscode": {
   "interpreter": {
    "hash": "0a6a937dacebfd77873fba4ccb2914d74056823c1743d2ef4f0f79c9d9db4a4e"
   }
  }
 },
 "nbformat": 4,
 "nbformat_minor": 2
}
