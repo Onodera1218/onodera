{
 "cells": [
  {
   "cell_type": "code",
   "execution_count": 1,
   "metadata": {},
   "outputs": [],
   "source": [
    "import requests\n",
    "from bs4 import BeautifulSoup"
   ]
  },
  {
   "cell_type": "code",
   "execution_count": null,
   "metadata": {},
   "outputs": [],
   "source": [
    "user_agent = 'Mozilla/5.0 (Macintosh; Intel Mac OS X 10_13_5) AppleWebKit/537.36 (KHTML, like Gecko) Chrome/67.0.3396.99 Safari/537.36'\n",
    "header = {'User-Agent': user_agent}\n",
    "url = 'https://www.chintaistyle.jp/pref/01/area_12293_list.html'#サイトのURL\n",
    "\n",
    "res = requests.get(url,headers=header)\n",
    "soup = BeautifulSoup(res.text,\"html.parser\")\n",
    "\n",
    "soup.find_all('li')"
   ]
  },
  {
   "cell_type": "code",
   "execution_count": 6,
   "metadata": {},
   "outputs": [
    {
     "data": {
      "text/plain": [
       "[<li class=\"estate-parent-rightBottomUL1_LI1\">室蘭市清水町２丁目</li>,\n",
       " <li class=\"estate-parent-rightBottomUL1_LI1\">室蘭市白鳥台５丁目</li>,\n",
       " <li class=\"estate-parent-rightBottomUL1_LI1\">室蘭市高砂町5丁目</li>,\n",
       " <li class=\"estate-parent-rightBottomUL1_LI1\">室蘭市清水町２丁目</li>,\n",
       " <li class=\"estate-parent-rightBottomUL1_LI1\">室蘭市八丁平3丁目</li>,\n",
       " <li class=\"estate-parent-rightBottomUL1_LI1\">室蘭市高砂町5丁目</li>,\n",
       " <li class=\"estate-parent-rightBottomUL1_LI1\">室蘭市水元町</li>,\n",
       " <li class=\"estate-parent-rightBottomUL1_LI1\">室蘭市八丁平５丁目</li>,\n",
       " <li class=\"estate-parent-rightBottomUL1_LI1\">室蘭市増市町１丁目</li>,\n",
       " <li class=\"estate-parent-rightBottomUL1_LI1\">室蘭市白鳥台５丁目</li>,\n",
       " <li class=\"estate-parent-rightBottomUL1_LI1\">室蘭市祝津町３丁目</li>,\n",
       " <li class=\"estate-parent-rightBottomUL1_LI1\">室蘭市日の出町２丁目</li>]"
      ]
     },
     "execution_count": 6,
     "metadata": {},
     "output_type": "execute_result"
    }
   ],
   "source": [
    "data = soup.find_all('li',{'class':'estate-parent-rightBottomUL1_LI1'})\n",
    "data"
   ]
  },
  {
   "cell_type": "code",
   "execution_count": 7,
   "metadata": {},
   "outputs": [
    {
     "name": "stdout",
     "output_type": "stream",
     "text": [
      "室蘭市清水町２丁目\n",
      "室蘭市白鳥台５丁目\n",
      "室蘭市高砂町5丁目\n",
      "室蘭市清水町２丁目\n",
      "室蘭市八丁平3丁目\n",
      "室蘭市高砂町5丁目\n",
      "室蘭市水元町\n",
      "室蘭市八丁平５丁目\n",
      "室蘭市増市町１丁目\n",
      "室蘭市白鳥台５丁目\n",
      "室蘭市祝津町３丁目\n",
      "室蘭市日の出町２丁目\n"
     ]
    }
   ],
   "source": [
    "for li_tag in soup.find_all('li',{'class':'estate-parent-rightBottomUL1_LI1'}):\n",
    "    print(li_tag.text)\n",
    "    # github test"
   ]
  },
  {
   "cell_type": "code",
   "execution_count": null,
   "metadata": {},
   "outputs": [],
   "source": []
  }
 ],
 "metadata": {
  "kernelspec": {
   "display_name": "Python 3",
   "language": "python",
   "name": "python3"
  },
  "language_info": {
   "codemirror_mode": {
    "name": "ipython",
    "version": 3
   },
   "file_extension": ".py",
   "mimetype": "text/x-python",
   "name": "python",
   "nbconvert_exporter": "python",
   "pygments_lexer": "ipython3",
   "version": "3.11.0"
  },
  "orig_nbformat": 4,
  "vscode": {
   "interpreter": {
    "hash": "5c12dd90d86f1669a929010bebaa50a0836e640b2d45c5d6a7d066ec874e2103"
   }
  }
 },
 "nbformat": 4,
 "nbformat_minor": 2
}
