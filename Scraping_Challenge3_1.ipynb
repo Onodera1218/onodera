{
 "cells": [
  {
   "cell_type": "code",
   "execution_count": 59,
   "metadata": {
    "collapsed": true
   },
   "outputs": [
    {
     "data": {
      "text/plain": [
       "[<h2 class=\"estate-parent-rightTopTD_P2 alignLEFT\">眞島アパート \n",
       " </h2>,\n",
       " <h2 class=\"estate-parent-rightTopTD_P2 alignLEFT\">有 \n",
       " </h2>,\n",
       " <h2 class=\"estate-parent-rightTopTD_P2 alignLEFT\">眞島アパート \n",
       " </h2>,\n",
       " <h2 class=\"estate-parent-rightTopTD_P2 alignLEFT\">ノースフォレスト \n",
       " </h2>,\n",
       " <h2 class=\"estate-parent-rightTopTD_P2 alignLEFT\">ハイサンドヴィラ \n",
       " </h2>,\n",
       " <h2 class=\"estate-parent-rightTopTD_P2 alignLEFT\">室工 \n",
       " </h2>,\n",
       " <h2 class=\"estate-parent-rightTopTD_P2 alignLEFT\">インプレス \n",
       " </h2>,\n",
       " <h2 class=\"estate-parent-rightTopTD_P2 alignLEFT\">フォルトゥーナ \n",
       " </h2>,\n",
       " <h2 class=\"estate-parent-rightTopTD_P2 alignLEFT\">ビレッジハウス白鳥台1号棟 \n",
       " </h2>,\n",
       " <h2 class=\"estate-parent-rightTopTD_P2 alignLEFT\">グリフィンドール \n",
       " </h2>,\n",
       " <h2 class=\"estate-parent-rightTopTD_P2 alignLEFT\">サンライズコート \n",
       " </h2>,\n",
       " <h2 class=\"GrayBarR\">室蘭市の物件情報</h2>,\n",
       " <h2 style=\"font-size: 13px;margin-bottom: 10px;\">中古住宅の購入を検討する</h2>,\n",
       " <h2 style=\"font-size: 13px;margin-bottom: 10px;\">土地の情報も見てみませんか</h2>,\n",
       " <h2 style=\"font-size: 13px;margin-bottom: 10px;\">家づくりを検討している方へ</h2>,\n",
       " <h2 style=\"font-size: 13px;margin-bottom: 10px;\">持ち家を売って賃貸に住みたい方へ</h2>,\n",
       " <h2 id=\"Information-NearStation-Notice\">\n",
       " <i aria-hidden=\"true\" class=\"fa fa-check\"></i> 現在ご覧の行政区は「\n",
       " \t\t\t\t\t\t\t\t<a href=\"/pref/01/area_12293_list.html\">\n",
       " <span>室蘭市</span>\n",
       " </a>」です。\n",
       " \t\t\t\t\t\t</h2>,\n",
       " <h2 class=\"Information-NearStation-Title\">室蘭市にある<a href=\"/area/selectUn_01.html\">大学周辺</a>から探す</h2>,\n",
       " <h2 class=\"Information-NearStation-Title\">室蘭市にある<a href=\"/area/selectSc_01.html\">小中学校周辺</a>から探す</h2>,\n",
       " <h2 class=\"Information-NearStation-Title\">室蘭市にある<a href=\"/area/selectHo_01.html\">医療機関周辺</a>から探す</h2>,\n",
       " <h2 class=\"Information-NearStation-Title\">室蘭市にある<a href=\"/area/selectNu_01.html\">保育園周辺</a>から探す</h2>,\n",
       " <h2 class=\"Information-NearStation-Title\">室蘭市にある<a href=\"/area/selectHs_01.html\">高速道路周辺</a>から探す</h2>,\n",
       " <h2 class=\"Information-NearStation-Title\">室蘭市にある<a href=\"/area/selectLe_01.html\">レジャー施設周辺</a>から探す</h2>,\n",
       " <h2 class=\"Information-NearStation-Title\">室蘭市にある<a href=\"/area/selectHSc_01.html\">高等学校周辺</a>から探す</h2>,\n",
       " <h2 class=\"Information-NearStation-Title\">室蘭市にある<a href=\"/area/selectFactory_01.html\">工場周辺</a>から探す</h2>,\n",
       " <h2 class=\"Information-NearStation-Title\">室蘭市にある<a href=\"/area/selectHotel_01.html\">ホテル周辺</a>から探す</h2>,\n",
       " <h2 class=\"Information-NearStation-Title\">室蘭市にある<a href=\"/area/selectLew_01.html\">遊べるレジャー施設周辺</a>から探す</h2>,\n",
       " <h2 class=\"Information-NearStation-Title\">室蘭市にある<a href=\"/area/selectWeddingHall_01.html\">結婚式場周辺</a>から探す</h2>,\n",
       " <h2 class=\"Information-NearStation-Title\">室蘭市にある<a href=\"/area/selectBank_01.html\">銀行周辺</a>から探す</h2>,\n",
       " <h2 class=\"Information-NearStation-Title\">室蘭市にある<a href=\"/area/selectTemple_01.html\">寺院周辺</a>から探す</h2>,\n",
       " <h2 class=\"Information-NearStation-Title\">室蘭市にある<a href=\"/area/selectHomecenter_01.html\">ホームセンター周辺</a>から探す</h2>,\n",
       " <h2 class=\"Information-NearStation-Title\">室蘭市にある<a href=\"/area/selectJuku_01.html\">学習塾周辺</a>から探す</h2>,\n",
       " <h2 class=\"Information-NearStation-Title\">室蘭市にある<a href=\"/area/selectBeach_01.html\">海水浴場周辺</a>から探す</h2>,\n",
       " <h2>室蘭市の賃貸物件情報に関してよくある質問</h2>,\n",
       " <h2>北海道室蘭市について</h2>,\n",
       " <h2>このページについて</h2>]"
      ]
     },
     "execution_count": 59,
     "metadata": {},
     "output_type": "execute_result"
    }
   ],
   "source": [
    "from bs4 import BeautifulSoup\n",
    "import requests\n",
    "import pandas as pd\n",
    "\n",
    "\n",
    "url = 'https://www.chintaistyle.jp/pref/01/area_12293_list.html' #サイトのURLを取得\n",
    "user_agent = 'Mozilla/5.0 (Windows NT 10.0; Win64; x64) AppleWebKit/537.36 (KHTML, like Gecko) Chrome/107.0.0.0 Safari/537.36'#ユーザーエージェントを設定\n",
    "header = {\"User-Agent\": user_agent}\n",
    "\n",
    "res = requests.get(url, headers=header)\n",
    "soup = BeautifulSoup(res.text,'html.parser') #BeautifulSoupでresの中身を整える\n",
    "\n",
    "soup.find_all('h2') #h2の中身を表示する"
   ]
  },
  {
   "cell_type": "code",
   "execution_count": 60,
   "metadata": {},
   "outputs": [
    {
     "data": {
      "text/plain": [
       "[<h2 class=\"estate-parent-rightTopTD_P2 alignLEFT\">眞島アパート \n",
       " </h2>,\n",
       " <h2 class=\"estate-parent-rightTopTD_P2 alignLEFT\">有 \n",
       " </h2>,\n",
       " <h2 class=\"estate-parent-rightTopTD_P2 alignLEFT\">眞島アパート \n",
       " </h2>,\n",
       " <h2 class=\"estate-parent-rightTopTD_P2 alignLEFT\">ノースフォレスト \n",
       " </h2>,\n",
       " <h2 class=\"estate-parent-rightTopTD_P2 alignLEFT\">ハイサンドヴィラ \n",
       " </h2>,\n",
       " <h2 class=\"estate-parent-rightTopTD_P2 alignLEFT\">室工 \n",
       " </h2>,\n",
       " <h2 class=\"estate-parent-rightTopTD_P2 alignLEFT\">インプレス \n",
       " </h2>,\n",
       " <h2 class=\"estate-parent-rightTopTD_P2 alignLEFT\">フォルトゥーナ \n",
       " </h2>,\n",
       " <h2 class=\"estate-parent-rightTopTD_P2 alignLEFT\">ビレッジハウス白鳥台1号棟 \n",
       " </h2>,\n",
       " <h2 class=\"estate-parent-rightTopTD_P2 alignLEFT\">グリフィンドール \n",
       " </h2>,\n",
       " <h2 class=\"estate-parent-rightTopTD_P2 alignLEFT\">サンライズコート \n",
       " </h2>]"
      ]
     },
     "execution_count": 60,
     "metadata": {},
     "output_type": "execute_result"
    }
   ],
   "source": [
    "datas = soup.find_all('h2',{'class':'estate-parent-rightTopTD_P2 alignLEFT'})  \n",
    "\n",
    "#datas = datas.replace('\\n','')\n",
    "\n",
    "datas"
   ]
  },
  {
   "cell_type": "code",
   "execution_count": 88,
   "metadata": {},
   "outputs": [
    {
     "name": "stdout",
     "output_type": "stream",
     "text": [
      "<class 'list'>\n",
      "                  不動産名\n",
      "0          [眞島アパート \\n]\n",
      "1               [有 \\n]\n",
      "2          [眞島アパート \\n]\n",
      "3        [ノースフォレスト \\n]\n",
      "4        [ハイサンドヴィラ \\n]\n",
      "5              [室工 \\n]\n",
      "6           [インプレス \\n]\n",
      "7         [フォルトゥーナ \\n]\n",
      "8   [ビレッジハウス白鳥台1号棟 \\n]\n",
      "9        [グリフィンドール \\n]\n",
      "10       [サンライズコート \\n]\n",
      "<class 'pandas.core.frame.DataFrame'>\n"
     ]
    }
   ],
   "source": [
    "\n",
    "print(type(datas))\n",
    "\n",
    "# データフレームに変換\n",
    "datas_df = pd.DataFrame({'不動産名':datas})\n",
    "print(datas_df)\n",
    "print(type(datas_df))"
   ]
  },
  {
   "cell_type": "code",
   "execution_count": 62,
   "metadata": {},
   "outputs": [],
   "source": [
    "import gspread\n",
    "import json\n",
    "from google.oauth2.service_account import Credentials\n",
    "# お決まりの文句\n",
    "# 2つのAPIを記述しないとリフレッシュトークンを3600秒毎に発行し続けなければならない\n",
    "\n",
    "scope = ['https://www.googleapis.com/auth/spreadsheets','https://www.googleapis.com/auth/drive']\n",
    "#ダウンロードしたjsonファイル名をクレデンシャル変数に設定。\n",
    "credentials = Credentials.from_service_account_file(\"step3-scraping-0939de7585a8.json\", scopes=scope)\n",
    "#OAuth2の資格情報を使用してGoogle APIにログイン。\n",
    "gc = gspread.authorize(credentials)\n",
    "#スプレッドシートIDを変数に格納する。\n",
    "SPREADSHEET_KEY = '16a7uIbpFfWT0mluRNR17jdHStS-KH6riqufvZAufJSo'\n",
    "# スプレッドシート（ブック）を開く\n",
    "workbook = gc.open_by_key(SPREADSHEET_KEY)"
   ]
  },
  {
   "cell_type": "code",
   "execution_count": 92,
   "metadata": {},
   "outputs": [
    {
     "name": "stdout",
     "output_type": "stream",
     "text": [
      "[<Worksheet '皆さんのスキル' id:2076453239>, <Worksheet '週間mt' id:784158682>, <Worksheet '12/7-13_スクレイピング' id:1081361636>, <Worksheet 'チーム名' id:0>, <Worksheet 'チームアライメントマップ' id:186520665>, <Worksheet 'チームコントラクト' id:401530367>, <Worksheet '参考資料' id:872376586>, <Worksheet 'new worksheet' id:1125157926>]\n"
     ]
    }
   ],
   "source": [
    "\n",
    "    # シートの一覧を取得する。（リスト形式）\n",
    "    worksheets = workbook.worksheets()\n",
    "    print(worksheets)\n",
    "    # シートを開く\n",
    "    #worksheet = workbook.worksheet('12/7-13_スクレイピング')\n",
    "    # セルA1に”test value”という文字列を代入する。\n",
    "   # worksheet.update_cell('A1:A10', data)\n",
    "   # worksheet.update_acell(List)\n",
    "pre_data =worksheet.get_all_values()\n",
    "col_name = pre_data[0][:]\n",
    "pre_df = pd.DataFrame(pre_data[1:], columns=col_name)"
   ]
  },
  {
   "cell_type": "code",
   "execution_count": 93,
   "metadata": {},
   "outputs": [],
   "source": [
    "from gspread_dataframe import set_with_dataframe\n",
    "\n",
    "set_with_dataframe(workbook.worksheet('12/7-13_スクレイピング'), datas_df, include_index=True)\n"
   ]
  },
  {
   "cell_type": "code",
   "execution_count": null,
   "metadata": {},
   "outputs": [],
   "source": []
  }
 ],
 "metadata": {
  "kernelspec": {
   "display_name": "Python 3.6.4 64-bit",
   "language": "python",
   "name": "python3"
  },
  "language_info": {
   "codemirror_mode": {
    "name": "ipython",
    "version": 3
   },
   "file_extension": ".py",
   "mimetype": "text/x-python",
   "name": "python",
   "nbconvert_exporter": "python",
   "pygments_lexer": "ipython3",
   "version": "3.6.4"
  },
  "vscode": {
   "interpreter": {
    "hash": "0a6a937dacebfd77873fba4ccb2914d74056823c1743d2ef4f0f79c9d9db4a4e"
   }
  }
 },
 "nbformat": 4,
 "nbformat_minor": 2
}
